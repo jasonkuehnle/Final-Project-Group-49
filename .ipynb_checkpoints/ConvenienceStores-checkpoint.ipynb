{
 "cells": [
  {
   "cell_type": "code",
   "execution_count": 1,
   "metadata": {},
   "outputs": [],
   "source": [
    "import pandas as pd\n",
    "import numpy as np\n",
    "%matplotlib inline\n",
    "import matplotlib.pyplot as plt"
   ]
  },
  {
   "cell_type": "markdown",
   "metadata": {},
   "source": [
    "The following reads in a dataset of convenience stores and supermarket"
   ]
  },
  {
   "cell_type": "code",
   "execution_count": 2,
   "metadata": {},
   "outputs": [
    {
     "data": {
      "text/html": [
       "<div>\n",
       "<style scoped>\n",
       "    .dataframe tbody tr th:only-of-type {\n",
       "        vertical-align: middle;\n",
       "    }\n",
       "\n",
       "    .dataframe tbody tr th {\n",
       "        vertical-align: top;\n",
       "    }\n",
       "\n",
       "    .dataframe thead th {\n",
       "        text-align: right;\n",
       "    }\n",
       "</style>\n",
       "<table border=\"1\" class=\"dataframe\">\n",
       "  <thead>\n",
       "    <tr style=\"text-align: right;\">\n",
       "      <th></th>\n",
       "      <th>Client ID</th>\n",
       "      <th>Name</th>\n",
       "      <th>Legal Name</th>\n",
       "      <th>Start Date</th>\n",
       "      <th>Street #</th>\n",
       "      <th>Street Name</th>\n",
       "      <th>State</th>\n",
       "      <th>Zip</th>\n",
       "      <th>Lat</th>\n",
       "      <th>Lon</th>\n",
       "      <th>Accuracy</th>\n",
       "      <th>Category</th>\n",
       "    </tr>\n",
       "  </thead>\n",
       "  <tbody>\n",
       "    <tr>\n",
       "      <th>0</th>\n",
       "      <td>201211150002</td>\n",
       "      <td>Avalon Fuel</td>\n",
       "      <td>Avalon Fuel Company</td>\n",
       "      <td>10/26/2012</td>\n",
       "      <td>901</td>\n",
       "      <td>Ohio River Blvd</td>\n",
       "      <td>PA</td>\n",
       "      <td>15202.0</td>\n",
       "      <td>40.495759</td>\n",
       "      <td>-80.066508</td>\n",
       "      <td>9.0</td>\n",
       "      <td>Convenience Store</td>\n",
       "    </tr>\n",
       "    <tr>\n",
       "      <th>1</th>\n",
       "      <td>201511040005</td>\n",
       "      <td>Ez Energy #303/7Eleven #36183H</td>\n",
       "      <td>Neelkanth Ansh Enterprises Inc</td>\n",
       "      <td>10/26/2015</td>\n",
       "      <td>209</td>\n",
       "      <td>Ohio River Blvd</td>\n",
       "      <td>PA</td>\n",
       "      <td>15143.0</td>\n",
       "      <td>40.545418</td>\n",
       "      <td>-80.194152</td>\n",
       "      <td>9.0</td>\n",
       "      <td>Convenience Store</td>\n",
       "    </tr>\n",
       "    <tr>\n",
       "      <th>2</th>\n",
       "      <td>201212130003</td>\n",
       "      <td>EZ Energy #311 / 7 Eleven #36191H</td>\n",
       "      <td>7 Eleven Inc</td>\n",
       "      <td>12/3/2012</td>\n",
       "      <td>8136</td>\n",
       "      <td>Ohio River Blvd</td>\n",
       "      <td>PA</td>\n",
       "      <td>15202.0</td>\n",
       "      <td>40.510522</td>\n",
       "      <td>-80.094268</td>\n",
       "      <td>9.0</td>\n",
       "      <td>Convenience Store</td>\n",
       "    </tr>\n",
       "    <tr>\n",
       "      <th>3</th>\n",
       "      <td>201211190006</td>\n",
       "      <td>Getgo #3646 / Crafton - Ingram</td>\n",
       "      <td>Giant Eagle Inc</td>\n",
       "      <td>11/15/2012</td>\n",
       "      <td>280</td>\n",
       "      <td>Crafton Ingram Shopping circle</td>\n",
       "      <td>PA</td>\n",
       "      <td>15205.0</td>\n",
       "      <td>41.203322</td>\n",
       "      <td>-77.194525</td>\n",
       "      <td>3.0</td>\n",
       "      <td>Convenience Store</td>\n",
       "    </tr>\n",
       "    <tr>\n",
       "      <th>4</th>\n",
       "      <td>53583</td>\n",
       "      <td>Mt NeBlvd Texaco</td>\n",
       "      <td>Mt NeBlvd Texaco</td>\n",
       "      <td>6/2/1995</td>\n",
       "      <td>1706</td>\n",
       "      <td>Mt Nebo Rd</td>\n",
       "      <td>PA</td>\n",
       "      <td>15143.0</td>\n",
       "      <td>40.553281</td>\n",
       "      <td>-80.109158</td>\n",
       "      <td>8.0</td>\n",
       "      <td>Convenience Store</td>\n",
       "    </tr>\n",
       "    <tr>\n",
       "      <th>5</th>\n",
       "      <td>201304220008</td>\n",
       "      <td>Radokovic Marathon</td>\n",
       "      <td>Radokovic Enterprises LlC</td>\n",
       "      <td>4/16/2013</td>\n",
       "      <td>1826</td>\n",
       "      <td>Lincoln Highway</td>\n",
       "      <td>PA</td>\n",
       "      <td>15137.0</td>\n",
       "      <td>40.367923</td>\n",
       "      <td>-79.780429</td>\n",
       "      <td>9.0</td>\n",
       "      <td>Convenience Store</td>\n",
       "    </tr>\n",
       "    <tr>\n",
       "      <th>6</th>\n",
       "      <td>200002290002</td>\n",
       "      <td>Sunoco #7544</td>\n",
       "      <td>Sunoco Inc R&amp;M</td>\n",
       "      <td>2/2/2000</td>\n",
       "      <td>1201</td>\n",
       "      <td>Airport Blvdulevard</td>\n",
       "      <td>PA</td>\n",
       "      <td>15231.0</td>\n",
       "      <td>40.494177</td>\n",
       "      <td>-80.267208</td>\n",
       "      <td>9.0</td>\n",
       "      <td>Convenience Store</td>\n",
       "    </tr>\n",
       "    <tr>\n",
       "      <th>7</th>\n",
       "      <td>52845</td>\n",
       "      <td>Sunoco A Plus Mini Market #8154</td>\n",
       "      <td>NaN</td>\n",
       "      <td>10/25/1994</td>\n",
       "      <td>5204</td>\n",
       "      <td>Interbo Ave</td>\n",
       "      <td>PA</td>\n",
       "      <td>15207.0</td>\n",
       "      <td>40.370214</td>\n",
       "      <td>-79.913195</td>\n",
       "      <td>9.0</td>\n",
       "      <td>Convenience Store</td>\n",
       "    </tr>\n",
       "    <tr>\n",
       "      <th>8</th>\n",
       "      <td>201310080001</td>\n",
       "      <td>Plow &amp; Hearth</td>\n",
       "      <td>Plow &amp; Hearth LLC</td>\n",
       "      <td>9/25/2013</td>\n",
       "      <td>1710</td>\n",
       "      <td>Settlers Ridge Center Dr</td>\n",
       "      <td>PA</td>\n",
       "      <td>15205.0</td>\n",
       "      <td>40.440641</td>\n",
       "      <td>-80.149132</td>\n",
       "      <td>5.0</td>\n",
       "      <td>Convenience Store</td>\n",
       "    </tr>\n",
       "    <tr>\n",
       "      <th>9</th>\n",
       "      <td>43192</td>\n",
       "      <td>S &amp; R Market</td>\n",
       "      <td>Mac's Convenience Stores LLC</td>\n",
       "      <td>1/11/1988</td>\n",
       "      <td>4915</td>\n",
       "      <td>2nd Ave</td>\n",
       "      <td>PA</td>\n",
       "      <td>15207.0</td>\n",
       "      <td>40.529076</td>\n",
       "      <td>-80.025577</td>\n",
       "      <td>5.0</td>\n",
       "      <td>Convenience Store</td>\n",
       "    </tr>\n",
       "  </tbody>\n",
       "</table>\n",
       "</div>"
      ],
      "text/plain": [
       "      Client ID                               Name  \\\n",
       "0  201211150002                        Avalon Fuel   \n",
       "1  201511040005     Ez Energy #303/7Eleven #36183H   \n",
       "2  201212130003  EZ Energy #311 / 7 Eleven #36191H   \n",
       "3  201211190006     Getgo #3646 / Crafton - Ingram   \n",
       "4         53583                   Mt NeBlvd Texaco   \n",
       "5  201304220008                 Radokovic Marathon   \n",
       "6  200002290002                       Sunoco #7544   \n",
       "7         52845    Sunoco A Plus Mini Market #8154   \n",
       "8  201310080001                      Plow & Hearth   \n",
       "9         43192                       S & R Market   \n",
       "\n",
       "                       Legal Name  Start Date Street #  \\\n",
       "0             Avalon Fuel Company  10/26/2012      901   \n",
       "1  Neelkanth Ansh Enterprises Inc  10/26/2015      209   \n",
       "2                    7 Eleven Inc   12/3/2012     8136   \n",
       "3                 Giant Eagle Inc  11/15/2012      280   \n",
       "4                Mt NeBlvd Texaco    6/2/1995     1706   \n",
       "5       Radokovic Enterprises LlC   4/16/2013     1826   \n",
       "6                  Sunoco Inc R&M    2/2/2000     1201   \n",
       "7                             NaN  10/25/1994     5204   \n",
       "8               Plow & Hearth LLC   9/25/2013     1710   \n",
       "9    Mac's Convenience Stores LLC   1/11/1988     4915   \n",
       "\n",
       "                      Street Name State      Zip        Lat        Lon  \\\n",
       "0                 Ohio River Blvd    PA  15202.0  40.495759 -80.066508   \n",
       "1                 Ohio River Blvd    PA  15143.0  40.545418 -80.194152   \n",
       "2                 Ohio River Blvd    PA  15202.0  40.510522 -80.094268   \n",
       "3  Crafton Ingram Shopping circle    PA  15205.0  41.203322 -77.194525   \n",
       "4                      Mt Nebo Rd    PA  15143.0  40.553281 -80.109158   \n",
       "5                 Lincoln Highway    PA  15137.0  40.367923 -79.780429   \n",
       "6             Airport Blvdulevard    PA  15231.0  40.494177 -80.267208   \n",
       "7                     Interbo Ave    PA  15207.0  40.370214 -79.913195   \n",
       "8        Settlers Ridge Center Dr    PA  15205.0  40.440641 -80.149132   \n",
       "9                         2nd Ave    PA  15207.0  40.529076 -80.025577   \n",
       "\n",
       "   Accuracy           Category  \n",
       "0       9.0  Convenience Store  \n",
       "1       9.0  Convenience Store  \n",
       "2       9.0  Convenience Store  \n",
       "3       3.0  Convenience Store  \n",
       "4       8.0  Convenience Store  \n",
       "5       9.0  Convenience Store  \n",
       "6       9.0  Convenience Store  \n",
       "7       9.0  Convenience Store  \n",
       "8       5.0  Convenience Store  \n",
       "9       5.0  Convenience Store  "
      ]
     },
     "execution_count": 2,
     "metadata": {},
     "output_type": "execute_result"
    }
   ],
   "source": [
    "stores = pd.read_csv(\"convenience.csv\", index_col = None)\n",
    "stores.head(10)"
   ]
  },
  {
   "cell_type": "code",
   "execution_count": 7,
   "metadata": {},
   "outputs": [
    {
     "data": {
      "text/plain": [
       "Convenience Store    515\n",
       "Supermarket          156\n",
       "Name: Category, dtype: int64"
      ]
     },
     "execution_count": 7,
     "metadata": {},
     "output_type": "execute_result"
    }
   ],
   "source": [
    "stores[\"Category\"].value_counts()"
   ]
  },
  {
   "cell_type": "code",
   "execution_count": 11,
   "metadata": {},
   "outputs": [
    {
     "data": {
      "text/plain": [
       "15237.0    28\n",
       "15146.0    22\n",
       "15222.0    21\n",
       "15108.0    19\n",
       "15132.0    19\n",
       "15210.0    18\n",
       "15212.0    17\n",
       "15213.0    17\n",
       "15206.0    17\n",
       "15136.0    17\n",
       "15219.0    17\n",
       "15235.0    16\n",
       "15221.0    16\n",
       "15236.0    16\n",
       "15227.0    15\n",
       "15122.0    15\n",
       "15205.0    15\n",
       "15090.0    12\n",
       "15044.0    12\n",
       "15217.0    11\n",
       "Name: Zip, dtype: int64"
      ]
     },
     "execution_count": 11,
     "metadata": {},
     "output_type": "execute_result"
    }
   ],
   "source": [
    "zips = stores[\"Zip\"].value_counts()\n",
    "zips.head(20)"
   ]
  },
  {
   "cell_type": "markdown",
   "metadata": {},
   "source": [
    "The 10 zip codes that appear most often:\n",
    "1. 15237 - McKnight, McCandless, PA\n",
    "2. 15146 - Monroeville, PA\n",
    "3. 15222 - Troy Hill, Pittsburgh, PA\n",
    "4. 15108 - Corapolis, PA\n",
    "5. 15132 - McKeesport, PA\n",
    "6. 15210 - St. Clair, Pittsburgh, PA\n",
    "7. 15212 - Perry South, Pittsburgh, PA\n",
    "8. 15213 - North Oakland, Pittsburgh, PA\n",
    "9. 15206 - Larimer, Pittsburgh, PA\n",
    "10. 15136 - McKees Rocks, PA"
   ]
  },
  {
   "cell_type": "markdown",
   "metadata": {},
   "source": [
    "Out of these 10, the ones that are neighborhoods in Pittsburgh:\n",
    "1. Troy Hill\n",
    "2. St. Clair\n",
    "3. Perry South\n",
    "4. North Oakland\n",
    "5. Larimer\n",
    "(But these just mean that they appear most often. We want to see which ones have the most convenience stores). "
   ]
  },
  {
   "cell_type": "code",
   "execution_count": 14,
   "metadata": {},
   "outputs": [
    {
     "name": "stdout",
     "output_type": "stream",
     "text": [
      "         Client ID  Name  Legal Name  Start Date  Street #  Street Name  \\\n",
      "Zip                                                                       \n",
      "15014.0          2     2           1           2         2            2   \n",
      "15017.0          9     9           8           9         9            9   \n",
      "15018.0          1     1           1           1         1            1   \n",
      "15024.0          4     4           3           4         4            4   \n",
      "15025.0          5     5           3           5         5            5   \n",
      "...            ...   ...         ...         ...       ...          ...   \n",
      "15239.0          6     6           6           6         6            6   \n",
      "15241.0          6     6           5           6         6            6   \n",
      "15275.0          2     2           2           2         2            2   \n",
      "15282.0          1     1           1           1         1            1   \n",
      "16046.0          1     1           1           1         1            1   \n",
      "\n",
      "         State  Lat  Lon  Accuracy  Category  \n",
      "Zip                                           \n",
      "15014.0      2    2    2         2         2  \n",
      "15017.0      9    9    9         9         9  \n",
      "15018.0      1    1    1         1         1  \n",
      "15024.0      4    4    4         4         4  \n",
      "15025.0      5    5    5         5         5  \n",
      "...        ...  ...  ...       ...       ...  \n",
      "15239.0      6    6    6         6         6  \n",
      "15241.0      6    6    6         6         6  \n",
      "15275.0      2    2    2         2         2  \n",
      "15282.0      1    1    1         1         1  \n",
      "16046.0      1    1    1         1         1  \n",
      "\n",
      "[90 rows x 11 columns]\n"
     ]
    }
   ],
   "source": [
    "zip = stores.groupby(\"Zip\").count()\n",
    "print(zip)"
   ]
  },
  {
   "cell_type": "code",
   "execution_count": 3,
   "metadata": {},
   "outputs": [
    {
     "name": "stdout",
     "output_type": "stream",
     "text": [
      "        Client ID                               Name  \\\n",
      "0    201211150002                        Avalon Fuel   \n",
      "1    201511040005     Ez Energy #303/7Eleven #36183H   \n",
      "2    201212130003  EZ Energy #311 / 7 Eleven #36191H   \n",
      "3    201211190006     Getgo #3646 / Crafton - Ingram   \n",
      "4           53583                   Mt NeBlvd Texaco   \n",
      "..            ...                                ...   \n",
      "510  201406230007                 Wm Penn Hwy Sunoco   \n",
      "511  200410180001                         WN Grocery   \n",
      "512  201407280005               Zoscak's Food Market   \n",
      "513         45034                     Zozos Marathon   \n",
      "514  200704260001                        GetGo #3137   \n",
      "\n",
      "                         Legal Name  Start Date Street #  \\\n",
      "0               Avalon Fuel Company  10/26/2012      901   \n",
      "1    Neelkanth Ansh Enterprises Inc  10/26/2015      209   \n",
      "2                      7 Eleven Inc   12/3/2012     8136   \n",
      "3                   Giant Eagle Inc  11/15/2012      280   \n",
      "4                  Mt NeBlvd Texaco    6/2/1995     1706   \n",
      "..                              ...         ...      ...   \n",
      "510              R & D Ventures Inc   6/18/2014     3406   \n",
      "511                             NaN   10/8/2004     1018   \n",
      "512    Harneet Singh Enterprise Inc   7/22/2014      319   \n",
      "513           Zozos Enterprises Inc   8/16/1989     8716   \n",
      "514                 Giant Eagle Inc   4/26/2007      NaN   \n",
      "\n",
      "                              Street Name State      Zip        Lat  \\\n",
      "0                         Ohio River Blvd    PA  15202.0  40.495759   \n",
      "1                         Ohio River Blvd    PA  15143.0  40.545418   \n",
      "2                         Ohio River Blvd    PA  15202.0  40.510522   \n",
      "3          Crafton Ingram Shopping circle    PA  15205.0  41.203322   \n",
      "4                              Mt Nebo Rd    PA  15143.0  40.553281   \n",
      "..                                    ...   ...      ...        ...   \n",
      "510                           Wm Penn Hwy    PA  15235.0  40.430551   \n",
      "511                           W North Ave    PA  15233.0  40.453283   \n",
      "512                                Ann St    PA  15132.0  40.350695   \n",
      "513                            Peebles Rd    PA  15237.0  40.567233   \n",
      "514  8-A Quaker Village ShopPikeng Center    PA  15056.0        NaN   \n",
      "\n",
      "           Lon  Accuracy           Category  \n",
      "0   -80.066508       9.0  Convenience Store  \n",
      "1   -80.194152       9.0  Convenience Store  \n",
      "2   -80.094268       9.0  Convenience Store  \n",
      "3   -77.194525       3.0  Convenience Store  \n",
      "4   -80.109158       8.0  Convenience Store  \n",
      "..         ...       ...                ...  \n",
      "510 -79.815470       9.0  Convenience Store  \n",
      "511 -80.020292       9.0  Convenience Store  \n",
      "512 -79.874877       9.0  Convenience Store  \n",
      "513 -80.007372       9.0  Convenience Store  \n",
      "514        NaN       NaN  Convenience Store  \n",
      "\n",
      "[515 rows x 12 columns]\n"
     ]
    }
   ],
   "source": [
    "convenience = stores[stores['Category'].str.contains('Convenience Store', na = False)]\n",
    "print(convenience)"
   ]
  },
  {
   "cell_type": "code",
   "execution_count": 26,
   "metadata": {},
   "outputs": [
    {
     "name": "stdout",
     "output_type": "stream",
     "text": [
      "15237.0    18\n",
      "15222.0    17\n",
      "15219.0    16\n",
      "15108.0    16\n",
      "15136.0    16\n",
      "           ..\n",
      "15018.0     1\n",
      "15133.0     1\n",
      "15030.0     1\n",
      "16046.0     1\n",
      "15057.0     1\n",
      "Name: Zip, Length: 87, dtype: int64\n"
     ]
    }
   ],
   "source": [
    "con_zip = convenience[\"Zip\"].value_counts()\n",
    "print(con_zip)"
   ]
  },
  {
   "cell_type": "code",
   "execution_count": 28,
   "metadata": {},
   "outputs": [
    {
     "data": {
      "text/plain": [
       "15237.0    18\n",
       "15222.0    17\n",
       "15219.0    16\n",
       "15108.0    16\n",
       "15136.0    16\n",
       "15212.0    14\n",
       "15146.0    14\n",
       "15210.0    14\n",
       "15213.0    14\n",
       "15221.0    13\n",
       "15132.0    13\n",
       "15206.0    13\n",
       "15236.0    12\n",
       "15235.0    11\n",
       "15227.0    10\n",
       "Name: Zip, dtype: int64"
      ]
     },
     "execution_count": 28,
     "metadata": {},
     "output_type": "execute_result"
    }
   ],
   "source": [
    "con_zip.head(15)"
   ]
  },
  {
   "cell_type": "markdown",
   "metadata": {},
   "source": [
    "Updated list with most frequently appearing zip codes filtered with convenience stores only. \n",
    "1. 15237 - McKnight, McCandless, PA\n",
    "2. 15222 - Troy Hill, Pittsburgh, PA\n",
    "3. 15219 - Downtown, Pittsburgh, PA\n",
    "4. 15108 - Coraopolis, PA\n",
    "5. 15136 - McKees Rocks, PA\n",
    "6. 15212 - Perry South, Pittsburgh, PA\n",
    "7. 15146 - Monroeville, Pittsburgh, PA\n",
    "8. 15210 - St. Clair, Pittsburgh, PA\n",
    "9. 15213 - North Oakland, Pittsburgh, PA\n",
    "10. 15221 - Pittsburgh, PA"
   ]
  },
  {
   "cell_type": "code",
   "execution_count": 4,
   "metadata": {},
   "outputs": [
    {
     "name": "stdout",
     "output_type": "stream",
     "text": [
      "Giant Eagle Inc               30\n",
      "Sunoco Inc R&M                19\n",
      "Sheetz Inc                    18\n",
      "Co Go's                       13\n",
      "7 Eleven Inc                  11\n",
      "                              ..\n",
      "Mahdev Corp                    1\n",
      "Syed J Hernect LLC             1\n",
      "Eddies Snacks & Smokes LLC     1\n",
      "SJ Retail Services LLC         1\n",
      "Dr Petroleum Co                1\n",
      "Name: Legal Name, Length: 245, dtype: int64\n"
     ]
    }
   ],
   "source": [
    "store_name = convenience[\"Legal Name\"].value_counts()\n",
    "print(store_name)"
   ]
  },
  {
   "cell_type": "code",
   "execution_count": 9,
   "metadata": {},
   "outputs": [
    {
     "name": "stdout",
     "output_type": "stream",
     "text": [
      "Sunoco Inc R&M                19\n",
      "Sheetz Inc                    18\n",
      "Co Go's                       13\n",
      "7 Eleven Inc                  11\n",
      "Speedway LLC                  10\n",
      "                              ..\n",
      "R & D Ventures Inc             1\n",
      "Mahdev Corp                    1\n",
      "Syed J Hernect LLC             1\n",
      "Eddies Snacks & Smokes LLC     1\n",
      "SGII Group LLC                 1\n",
      "Name: Legal Name, Length: 244, dtype: int64\n"
     ]
    }
   ],
   "source": [
    "no_giant = convenience[convenience[\"Legal Name\"].str.contains(\"Giant Eagle Inc\") == False]\n",
    "nogiant2 = no_giant[\"Legal Name\"].value_counts()\n",
    "print(nogiant2)"
   ]
  },
  {
   "cell_type": "code",
   "execution_count": 11,
   "metadata": {},
   "outputs": [
    {
     "data": {
      "text/plain": [
       "15237.0    16\n",
       "15108.0    13\n",
       "15146.0    12\n",
       "15132.0    11\n",
       "15222.0    10\n",
       "15136.0    10\n",
       "15212.0     9\n",
       "15213.0     9\n",
       "15236.0     8\n",
       "15227.0     8\n",
       "Name: Zip, dtype: int64"
      ]
     },
     "execution_count": 11,
     "metadata": {},
     "output_type": "execute_result"
    }
   ],
   "source": [
    "no_giant_zip = no_giant[\"Zip\"].value_counts()\n",
    "no_giant_zip.head(10)"
   ]
  },
  {
   "cell_type": "markdown",
   "metadata": {},
   "source": [
    "1. 15237 - McKnight, McCandless, PA\n",
    "2. 15108 - Coraopolis, PA\n",
    "3. 15146 - Monroeville, Pittsburgh, PA\n",
    "4. 15132 - Mckeesport, PA\n",
    "5. 15222 - Troy Hill, Pittsburgh, PA\n",
    "6. 15136 - McKees Rocks, PA\n",
    "7. 15212 - Perry South, Pittsburgh, PA\n",
    "8. 15213 - Oakland, Pittsburgh, PA\n",
    "9. 15236 - somwhere, Pittsburgh\n",
    "10. 15227 - "
   ]
  },
  {
   "cell_type": "code",
   "execution_count": null,
   "metadata": {},
   "outputs": [],
   "source": [
    "sevEleven = no_giant[no_giant[\"Legal Name\"].str.contains(\"7 Eleven Inc\")]\n",
    "print(sevEleven[\"Zip\"].value_counts())"
   ]
  }
 ],
 "metadata": {
  "kernelspec": {
   "display_name": "Python 3",
   "language": "python",
   "name": "python3"
  },
  "language_info": {
   "codemirror_mode": {
    "name": "ipython",
    "version": 3
   },
   "file_extension": ".py",
   "mimetype": "text/x-python",
   "name": "python",
   "nbconvert_exporter": "python",
   "pygments_lexer": "ipython3",
   "version": "3.8.3"
  }
 },
 "nbformat": 4,
 "nbformat_minor": 4
}
